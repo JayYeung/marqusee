{
 "cells": [
  {
   "cell_type": "code",
   "execution_count": 3,
   "metadata": {},
   "outputs": [],
   "source": [
    "import pandas as pd\n",
    "from pathlib import Path\n",
    "import numpy as np\n",
    "\n",
    "\n",
    "CSV_SAVES = Path('CSV_SAVES')\n",
    "INPUT_FILES = Path('INPUT_FILES')\n",
    "\n",
    "filename = '1f21_base_200k.csv'\n",
    "THRESHOLD = 1.25e8\n",
    "\n",
    "df = pd.read_csv(CSV_SAVES / filename)\n"
   ]
  },
  {
   "cell_type": "code",
   "execution_count": 4,
   "metadata": {},
   "outputs": [
    {
     "data": {
      "application/vnd.jupyter.widget-view+json": {
       "model_id": "8baa4c75124647bfa19085c8f995d355",
       "version_major": 2,
       "version_minor": 0
      },
      "text/plain": []
     },
     "metadata": {},
     "output_type": "display_data"
    },
    {
     "data": {
      "application/vnd.jupyter.widget-view+json": {
       "model_id": "ab03f396628f4ddf803b2d922bc40aff",
       "version_major": 2,
       "version_minor": 0
      },
      "text/plain": [
       "FloatSlider(value=0.4, continuous_update=False, description='Temp:', max=1.0, min=0.4, step=0.025)"
      ]
     },
     "metadata": {},
     "output_type": "display_data"
    },
    {
     "data": {
      "application/vnd.jupyter.widget-view+json": {
       "model_id": "fb1d502f3ab94fbfa2ca4d16be12ebe2",
       "version_major": 2,
       "version_minor": 0
      },
      "text/plain": [
       "IntSlider(value=0, continuous_update=False, description='Natives:', max=123)"
      ]
     },
     "metadata": {},
     "output_type": "display_data"
    },
    {
     "data": {
      "application/vnd.jupyter.widget-view+json": {
       "model_id": "fab7dd22da6d4abea3c9dc294d290127",
       "version_major": 2,
       "version_minor": 0
      },
      "text/plain": [
       "Output()"
      ]
     },
     "metadata": {},
     "output_type": "display_data"
    }
   ],
   "source": [
    "import pandas as pd\n",
    "import ipywidgets as widgets\n",
    "from IPython.display import display\n",
    "import nglview as nv\n",
    "import numpy as np\n",
    "\n",
    "temp_slider = widgets.FloatSlider(\n",
    "    value=df['temp'].min(),\n",
    "    min=df['temp'].min(),\n",
    "    max=df['temp'].max(),\n",
    "    step=0.025,\n",
    "    description='Temp:',\n",
    "    continuous_update=False\n",
    ")\n",
    "\n",
    "natives_slider = widgets.IntSlider(\n",
    "    value=df['natives'].min(),\n",
    "    min=df['natives'].min(),\n",
    "    max=df['natives'].max(),\n",
    "    step=1,\n",
    "    description='Natives:',\n",
    "    continuous_update=False\n",
    ")\n",
    "\n",
    "output = widgets.Output()\n",
    "\n",
    "def update_output(*args):\n",
    "    output.clear_output()\n",
    "    rounded_value = round(temp_slider.value / 0.025) * 0.025\n",
    "    filtered_df = df[(df['step'] > THRESHOLD) & (np.isclose(df['temp'], rounded_value)) & (df['natives'] == natives_slider.value) & (df['step'] % 500000 == 0)]\n",
    "    count = len(filtered_df)\n",
    "    with output:\n",
    "        print(rounded_value)\n",
    "        print(f'Count of rows: {count}')\n",
    "\n",
    "        for i in range(count):\n",
    "            step = filtered_df['step'].iloc[i]\n",
    "            temp = filtered_df['temp'].iloc[i]\n",
    "            pdb = str(INPUT_FILES) + '/' + filename.strip('.csv') + '/' + f'1f21_{temp:.3f}.{step}.pdb'\n",
    "            # print(pdb)\n",
    "            view = nv.show_file(pdb)\n",
    "            display(view)\n",
    "\n",
    "        # display(filtered_df.head())\n",
    "\n",
    "\n",
    "temp_slider.observe(update_output, 'value')\n",
    "natives_slider.observe(update_output, 'value')\n",
    "\n",
    "display(temp_slider, natives_slider, output)\n"
   ]
  },
  {
   "cell_type": "code",
   "execution_count": null,
   "metadata": {},
   "outputs": [],
   "source": []
  }
 ],
 "metadata": {
  "kernelspec": {
   "display_name": "Python 3",
   "language": "python",
   "name": "python3"
  },
  "language_info": {
   "codemirror_mode": {
    "name": "ipython",
    "version": 3
   },
   "file_extension": ".py",
   "mimetype": "text/x-python",
   "name": "python",
   "nbconvert_exporter": "python",
   "pygments_lexer": "ipython3",
   "version": "3.11.6"
  }
 },
 "nbformat": 4,
 "nbformat_minor": 2
}
