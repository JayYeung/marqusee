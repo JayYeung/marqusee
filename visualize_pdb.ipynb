{
 "cells": [
  {
   "cell_type": "code",
   "execution_count": 33,
   "metadata": {},
   "outputs": [],
   "source": [
    "import pandas as pd\n",
    "from pathlib import Path\n",
    "import numpy as np\n",
    "\n",
    "\n",
    "CSV_SAVES = Path('CSV_SAVES')\n",
    "INPUT_FILES = Path('INPUT_FILES')\n",
    "\n",
    "base = '1f21_base_200k'\n",
    "sec_base = '1f21'\n",
    "\n",
    "df = pd.read_csv(CSV_SAVES / f'{base}.csv')"
   ]
  },
  {
   "cell_type": "code",
   "execution_count": 76,
   "metadata": {},
   "outputs": [
    {
     "name": "stdout",
     "output_type": "stream",
     "text": [
      "Found 92 rows with 50 natives and temp 0.875.\n"
     ]
    }
   ],
   "source": [
    "import os\n",
    "\n",
    "native_count = 50\n",
    "temp = 0.875\n",
    "\n",
    "filtered_df = df[(df['natives'] == native_count) & (df['temp'] == temp)]\n",
    "print(f'Found {len(filtered_df)} rows with {native_count} natives and temp {temp}.')\n",
    "for step in np.random.permutation(filtered_df['step']): \n",
    "    path = f'{INPUT_FILES}/{base}/{sec_base}_{temp}.{step}.pdb'\n",
    "    \n",
    "    if not os.path.exists(path):\n",
    "        continue\n",
    "\n",
    "    with open(path, 'r') as f:\n",
    "        lines = f.readlines()\n",
    "\n",
    "    with open(f'visualize/test_{temp}_{native_count}.pdb', 'w') as f:\n",
    "        for line in lines:\n",
    "            f.write(line)"
   ]
  },
  {
   "cell_type": "code",
   "execution_count": null,
   "metadata": {},
   "outputs": [],
   "source": []
  }
 ],
 "metadata": {
  "kernelspec": {
   "display_name": "Python 3",
   "language": "python",
   "name": "python3"
  },
  "language_info": {
   "codemirror_mode": {
    "name": "ipython",
    "version": 3
   },
   "file_extension": ".py",
   "mimetype": "text/x-python",
   "name": "python",
   "nbconvert_exporter": "python",
   "pygments_lexer": "ipython3",
   "version": "3.11.6"
  }
 },
 "nbformat": 4,
 "nbformat_minor": 2
}
