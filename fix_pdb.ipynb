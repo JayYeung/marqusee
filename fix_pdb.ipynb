{
 "cells": [
  {
   "cell_type": "code",
   "execution_count": 23,
   "metadata": {},
   "outputs": [],
   "source": [
    "import re\n",
    "\n",
    "pattern = r'(ATOM\\s+\\d+\\s+\\w+\\s+\\w+\\s+\\w+\\s+)(\\d+)(\\s+-?\\d+.\\d+\\s+-?\\d+.\\d+\\s+-?\\d+.\\d+\\s+\\d+.\\d+\\s+\\d+.\\d+\\s+\\w+\\s+)'"
   ]
  },
  {
   "cell_type": "code",
   "execution_count": 30,
   "metadata": {},
   "outputs": [],
   "source": [
    "with open('1f21.pdb', 'r') as file:\n",
    "    text = file.read()\n",
    "    \n",
    "res = ''\n",
    "for a, b, c in re.findall(pattern, text):\n",
    "    res += (a + str(int(b) - 2) + c)"
   ]
  },
  {
   "cell_type": "code",
   "execution_count": null,
   "metadata": {},
   "outputs": [],
   "source": []
  }
 ],
 "metadata": {
  "kernelspec": {
   "display_name": "Python 3",
   "language": "python",
   "name": "python3"
  },
  "language_info": {
   "codemirror_mode": {
    "name": "ipython",
    "version": 3
   },
   "file_extension": ".py",
   "mimetype": "text/x-python",
   "name": "python",
   "nbconvert_exporter": "python",
   "pygments_lexer": "ipython3",
   "version": "3.11.6"
  }
 },
 "nbformat": 4,
 "nbformat_minor": 2
}
