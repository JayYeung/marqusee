{
 "cells": [
  {
   "cell_type": "code",
   "execution_count": 4,
   "metadata": {},
   "outputs": [
    {
     "name": "stdout",
     "output_type": "stream",
     "text": [
      "In total, there are 1214 lines in the file \n",
      "Creating 1f21_base_FIRST_117 directory\n",
      "First N = 117 lines are written to 1f21_base_FIRST_117.pdb\n"
     ]
    }
   ],
   "source": [
    "import re\n",
    "import os\n",
    "from pathlib import Path\n",
    "\n",
    "N = 117\n",
    "\n",
    "PATH = '1f21_base'\n",
    "\n",
    "with open(f'{PATH}.pdb', 'r') as f:\n",
    "    text = f.read()\n",
    "    lines = text.split('\\n')\n",
    "    \n",
    "print(f'In total, there are {len(lines)} lines in the file ')    \n",
    "\n",
    "if not os.path.exists(f'{PATH}_FIRST_{N}'):\n",
    "    print(f'Creating {PATH}_FIRST_{N} directory')\n",
    "    os.makedirs(f'{PATH}_FIRST_{N}')\n",
    "    os.makedirs(f'{PATH}_FIRST_{N}/files')\n",
    "FOLDER = Path(f'{PATH}_FIRST_{N}/files')\n",
    "\n",
    "pattern = r'ATOM\\s+\\d+\\s+\\w+\\s+\\w+\\s+(\\d+)'\n",
    "\n",
    "with open(FOLDER / f'{PATH}_FIRST_{N}.pdb', 'w') as f:   \n",
    "    for line in lines:\n",
    "        amino_num = int(re.findall(pattern, line)[0])\n",
    "        if amino_num > N:\n",
    "            break\n",
    "        f.write(line + '\\n')\n",
    "        \n",
    "print(f'First {N = } lines are written to {PATH}_FIRST_{N}.pdb')"
   ]
  },
  {
   "cell_type": "code",
   "execution_count": 5,
   "metadata": {},
   "outputs": [
    {
     "name": "stdout",
     "output_type": "stream",
     "text": [
      "Original sequence length: 152\n",
      ">Original sequence (first 30 amino acids for display): KQVEIFTDGSALGNPGPGGYGAILRYRGRE...\n",
      ">Chopped sequence (first 117 amino acids): KQVEIFTDGSALGNPGPGGYGAILRYRGREKTFSAGYTRTTNNRMELMAAIVALEALKEHAEVILSTDSQYVRQGITQWIHNWKKRGWKTADKKPVKNVDLWQRLDAALGQHQIKWE\n"
     ]
    }
   ],
   "source": [
    "from Bio import SeqIO\n",
    "\n",
    "def chop_sequence(fasta_file, num_amino_acids=20):\n",
    "    for record in SeqIO.parse(fasta_file, \"fasta\"):\n",
    "        original_sequence = str(record.seq)\n",
    "        chopped_sequence = original_sequence[:num_amino_acids]\n",
    "\n",
    "        print(f'Original sequence length: {len(original_sequence)}')\n",
    "        print(f\">Original sequence (first 30 amino acids for display): {original_sequence[:30]}...\")\n",
    "        print(f\">Chopped sequence (first {num_amino_acids} amino acids): {chopped_sequence}\")\n",
    "\n",
    "    return chopped_sequence\n",
    "\n",
    "fasta_file = f'{PATH}.fasta'\n",
    "chopped_sequence = chop_sequence(fasta_file, N)\n",
    "\n",
    "with open(f'{PATH}_FIRST_{N}.fasta', 'w') as f:\n",
    "    f.write(f'>First {N = } amino acids of {PATH}.fasta\\n')\n",
    "    f.write(chopped_sequence)\n",
    "    f.write('\\n')\n",
    "\n"
   ]
  },
  {
   "cell_type": "code",
   "execution_count": 6,
   "metadata": {},
   "outputs": [],
   "source": [
    "with open(FOLDER / f'{PATH}_FIRST_{N}.sec_str', 'w') as f:   \n",
    "    f.write('0' * N)\n",
    "    f.write('\\n')\n",
    "    f.write('C' * N)\n",
    "\n",
    "with open(FOLDER / f'nothing.template', 'w') as f:   \n",
    "    f.write('')"
   ]
  },
  {
   "cell_type": "code",
   "execution_count": null,
   "metadata": {},
   "outputs": [],
   "source": [
    "sftp jayyeung@dtn.brc.berkeley.edu\n",
    "lcd /Users/Jay_Y/Desktop/marqusee/mcpu_data_analysis\n",
    "cd /global/home/users/jayyeung/dbfold/MCPU/sim\n",
    "put -r 1f21_base_FIRST_117 ."
   ]
  },
  {
   "cell_type": "code",
   "execution_count": null,
   "metadata": {},
   "outputs": [],
   "source": [
    "put -r 1f21_base_FIRST_138 ."
   ]
  },
  {
   "cell_type": "code",
   "execution_count": null,
   "metadata": {},
   "outputs": [],
   "source": [
    "cd /global/home/users/jayyeung/dbfold/MCPU/mcpu_prep\n",
    "put 1f21_base_FIRST_117.fasta ."
   ]
  }
 ],
 "metadata": {
  "kernelspec": {
   "display_name": "Python 3",
   "language": "python",
   "name": "python3"
  },
  "language_info": {
   "codemirror_mode": {
    "name": "ipython",
    "version": 3
   },
   "file_extension": ".py",
   "mimetype": "text/x-python",
   "name": "python",
   "nbconvert_exporter": "python",
   "pygments_lexer": "ipython3",
   "version": "3.11.6"
  }
 },
 "nbformat": 4,
 "nbformat_minor": 2
}
