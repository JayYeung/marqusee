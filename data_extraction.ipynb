{
 "cells": [
  {
   "cell_type": "code",
   "execution_count": 1,
   "metadata": {},
   "outputs": [
    {
     "ename": "SyntaxError",
     "evalue": "invalid decimal literal (792601584.py, line 5)",
     "output_type": "error",
     "traceback": [
      "\u001b[0;36m  Cell \u001b[0;32mIn[1], line 5\u001b[0;36m\u001b[0m\n\u001b[0;31m    cd /global/scratch/users/jayyeung/1f21_base_FIRST_138\u001b[0m\n\u001b[0m                                      ^\u001b[0m\n\u001b[0;31mSyntaxError\u001b[0m\u001b[0;31m:\u001b[0m invalid decimal literal\n"
     ]
    }
   ],
   "source": [
    "# scp -r jayyeung@hpc.brc.berkeley.edu:/global/scratch/users/jayyeung/1f21_base_200k /Users/Jay_Y/Desktop/marqusee/mcpu_data_analysis/\n",
    "\n",
    "\n",
    "sftp jayyeung@hpc.brc.berkeley.edu\n",
    "cd /global/scratch/users/jayyeung/1f21_base_FIRST_138_base\n",
    "lcd /Users/Jay_Y/Desktop/marqusee/mcpu_data_analysis\n",
    "get -r . /Users/Jay_Y/Desktop/marqusee/mcpu_data_analysis/1f21_base_FIRST_138_base\n",
    "\n"
   ]
  },
  {
   "cell_type": "code",
   "execution_count": 19,
   "metadata": {},
   "outputs": [
    {
     "name": "stdout",
     "output_type": "stream",
     "text": [
      "INPUT_FILES/1f21_base_FIRST_138_base/1f21_T_0.775.log\n",
      "INPUT_FILES/1f21_base_FIRST_138_base/1f21_T_0.600.log\n",
      "INPUT_FILES/1f21_base_FIRST_138_base/1f21_T_0.825.log\n",
      "INPUT_FILES/1f21_base_FIRST_138_base/1f21_T_0.400.log\n",
      "INPUT_FILES/1f21_base_FIRST_138_base/1f21_T_0.950.log\n",
      "INPUT_FILES/1f21_base_FIRST_138_base/1f21_T_0.575.log\n",
      "INPUT_FILES/1f21_base_FIRST_138_base/1f21_T_1.000.log\n",
      "INPUT_FILES/1f21_base_FIRST_138_base/1f21_T_0.500.log\n",
      "INPUT_FILES/1f21_base_FIRST_138_base/1f21_T_0.925.log\n",
      "INPUT_FILES/1f21_base_FIRST_138_base/1f21_T_0.475.log\n",
      "INPUT_FILES/1f21_base_FIRST_138_base/1f21_T_0.850.log\n",
      "INPUT_FILES/1f21_base_FIRST_138_base/1f21_T_0.675.log\n",
      "INPUT_FILES/1f21_base_FIRST_138_base/1f21_T_0.700.log\n",
      "INPUT_FILES/1f21_base_FIRST_138_base/1f21_T_0.725.log\n",
      "INPUT_FILES/1f21_base_FIRST_138_base/1f21_T_0.650.log\n",
      "INPUT_FILES/1f21_base_FIRST_138_base/1f21_T_0.875.log\n",
      "INPUT_FILES/1f21_base_FIRST_138_base/1f21_T_0.450.log\n",
      "INPUT_FILES/1f21_base_FIRST_138_base/1f21_T_0.900.log\n",
      "INPUT_FILES/1f21_base_FIRST_138_base/1f21_T_0.525.log\n",
      "INPUT_FILES/1f21_base_FIRST_138_base/1f21_T_0.550.log\n",
      "INPUT_FILES/1f21_base_FIRST_138_base/1f21_T_0.975.log\n",
      "INPUT_FILES/1f21_base_FIRST_138_base/1f21_T_0.425.log\n",
      "INPUT_FILES/1f21_base_FIRST_138_base/1f21_T_0.800.log\n",
      "INPUT_FILES/1f21_base_FIRST_138_base/1f21_T_0.625.log\n",
      "INPUT_FILES/1f21_base_FIRST_138_base/1f21_T_0.750.log\n"
     ]
    }
   ],
   "source": [
    "import os\n",
    "from pathlib import Path\n",
    "\n",
    "INPUT_FILES = Path('INPUT_FILES')\n",
    "CSV_SAVES = Path('CSV_SAVES')\n",
    "\n",
    "path = '1f21_base_FIRST_138_base'\n",
    "\n",
    "for dirpath, dirnames, filenames in os.walk(INPUT_FILES / path):\n",
    "    for filename in filenames:\n",
    "        if filename.endswith('.log'):\n",
    "            print(os.path.join(dirpath, filename))\n",
    "        elif filename.endswith('000'):\n",
    "            os.rename(os.path.join(dirpath, filename), os.path.join(dirpath, filename + '.pdb'))"
   ]
  },
  {
   "cell_type": "code",
   "execution_count": 20,
   "metadata": {},
   "outputs": [
    {
     "name": "stdout",
     "output_type": "stream",
     "text": [
      "(50000, 14)\n"
     ]
    },
    {
     "data": {
      "text/html": [
       "<div>\n",
       "<style scoped>\n",
       "    .dataframe tbody tr th:only-of-type {\n",
       "        vertical-align: middle;\n",
       "    }\n",
       "\n",
       "    .dataframe tbody tr th {\n",
       "        vertical-align: top;\n",
       "    }\n",
       "\n",
       "    .dataframe thead th {\n",
       "        text-align: right;\n",
       "    }\n",
       "</style>\n",
       "<table border=\"1\" class=\"dataframe\">\n",
       "  <thead>\n",
       "    <tr style=\"text-align: right;\">\n",
       "      <th></th>\n",
       "      <th>step</th>\n",
       "      <th>energy</th>\n",
       "      <th>contact</th>\n",
       "      <th>rmsd</th>\n",
       "      <th>natives</th>\n",
       "      <th>potnl</th>\n",
       "      <th>sctor</th>\n",
       "      <th>hbond</th>\n",
       "      <th>aro</th>\n",
       "      <th>torsion</th>\n",
       "      <th>accept</th>\n",
       "      <th>reject</th>\n",
       "      <th>other</th>\n",
       "      <th>temp</th>\n",
       "    </tr>\n",
       "  </thead>\n",
       "  <tbody>\n",
       "    <tr>\n",
       "      <th>0</th>\n",
       "      <td>0</td>\n",
       "      <td>-660.65</td>\n",
       "      <td>1167</td>\n",
       "      <td>0.00</td>\n",
       "      <td>108</td>\n",
       "      <td>-404.57</td>\n",
       "      <td>-89.06</td>\n",
       "      <td>-124.86</td>\n",
       "      <td>0.00</td>\n",
       "      <td>-79.72</td>\n",
       "      <td>0.00</td>\n",
       "      <td>0.00</td>\n",
       "      <td>0.00</td>\n",
       "      <td>0.4</td>\n",
       "    </tr>\n",
       "    <tr>\n",
       "      <th>1</th>\n",
       "      <td>100000</td>\n",
       "      <td>-611.59</td>\n",
       "      <td>1111</td>\n",
       "      <td>1.78</td>\n",
       "      <td>97</td>\n",
       "      <td>-368.01</td>\n",
       "      <td>-82.87</td>\n",
       "      <td>-117.48</td>\n",
       "      <td>0.04</td>\n",
       "      <td>-73.72</td>\n",
       "      <td>6.25</td>\n",
       "      <td>73.53</td>\n",
       "      <td>20.22</td>\n",
       "      <td>0.4</td>\n",
       "    </tr>\n",
       "    <tr>\n",
       "      <th>2</th>\n",
       "      <td>200000</td>\n",
       "      <td>-591.55</td>\n",
       "      <td>977</td>\n",
       "      <td>7.74</td>\n",
       "      <td>89</td>\n",
       "      <td>-332.51</td>\n",
       "      <td>-79.64</td>\n",
       "      <td>-118.51</td>\n",
       "      <td>0.00</td>\n",
       "      <td>-71.70</td>\n",
       "      <td>7.18</td>\n",
       "      <td>72.49</td>\n",
       "      <td>20.33</td>\n",
       "      <td>0.4</td>\n",
       "    </tr>\n",
       "    <tr>\n",
       "      <th>3</th>\n",
       "      <td>300000</td>\n",
       "      <td>-608.38</td>\n",
       "      <td>979</td>\n",
       "      <td>8.43</td>\n",
       "      <td>93</td>\n",
       "      <td>-353.77</td>\n",
       "      <td>-82.07</td>\n",
       "      <td>-122.17</td>\n",
       "      <td>0.00</td>\n",
       "      <td>-71.68</td>\n",
       "      <td>7.59</td>\n",
       "      <td>72.20</td>\n",
       "      <td>20.21</td>\n",
       "      <td>0.4</td>\n",
       "    </tr>\n",
       "    <tr>\n",
       "      <th>4</th>\n",
       "      <td>400000</td>\n",
       "      <td>-594.40</td>\n",
       "      <td>988</td>\n",
       "      <td>8.11</td>\n",
       "      <td>87</td>\n",
       "      <td>-341.94</td>\n",
       "      <td>-78.75</td>\n",
       "      <td>-123.00</td>\n",
       "      <td>0.00</td>\n",
       "      <td>-70.12</td>\n",
       "      <td>8.60</td>\n",
       "      <td>71.64</td>\n",
       "      <td>19.75</td>\n",
       "      <td>0.4</td>\n",
       "    </tr>\n",
       "  </tbody>\n",
       "</table>\n",
       "</div>"
      ],
      "text/plain": [
       "     step  energy  contact  rmsd  natives   potnl  sctor   hbond   aro  \\\n",
       "0       0 -660.65     1167  0.00      108 -404.57 -89.06 -124.86  0.00   \n",
       "1  100000 -611.59     1111  1.78       97 -368.01 -82.87 -117.48  0.04   \n",
       "2  200000 -591.55      977  7.74       89 -332.51 -79.64 -118.51  0.00   \n",
       "3  300000 -608.38      979  8.43       93 -353.77 -82.07 -122.17  0.00   \n",
       "4  400000 -594.40      988  8.11       87 -341.94 -78.75 -123.00  0.00   \n",
       "\n",
       "   torsion  accept  reject  other  temp  \n",
       "0   -79.72    0.00    0.00   0.00   0.4  \n",
       "1   -73.72    6.25   73.53  20.22   0.4  \n",
       "2   -71.70    7.18   72.49  20.33   0.4  \n",
       "3   -71.68    7.59   72.20  20.21   0.4  \n",
       "4   -70.12    8.60   71.64  19.75   0.4  "
      ]
     },
     "execution_count": 20,
     "metadata": {},
     "output_type": "execute_result"
    }
   ],
   "source": [
    "import pandas as pd\n",
    "import numpy as np\n",
    "import re\n",
    "\n",
    "pattern = r'STEP\\s+(?P<step>\\d+)\\s+(?P<energy>-?\\d+\\.\\d+)\\s+(?P<contact>\\d+)\\s+(?P<rmsd>\\d+\\.\\d+)\\s+(?P<natives>\\d+)\\s+(?P<potnl>-?\\d+\\.\\d+)\\s+(?P<sctor>-?\\d+\\.\\d+)\\s+(?P<hbond>-?\\d+\\.\\d+)\\s+(?P<aro>-?\\d+\\.\\d+)\\s+(?P<torsion>-?\\d+\\.\\d+)\\s+(?P<accept>-?\\d+\\.\\d+)\\s+(?P<reject>-?\\d+\\.\\d+)\\s+(?P<other>-?\\d+\\.\\d+)\\s+(?P<temp>-?\\d+\\.\\d+)'\n",
    "\n",
    "df = pd.DataFrame()\n",
    "\n",
    "for temp in np.arange(.4, 1.001, .025):\n",
    "    filename = INPUT_FILES / f'{path}/1f21_T_{temp:.3f}.log'\n",
    "\n",
    "    with open(filename, 'r') as file:\n",
    "        text = file.read()\n",
    "        matches = [m.groupdict() for m in re.finditer(pattern, text)]\n",
    "\n",
    "    temp_df = pd.DataFrame(matches)\n",
    "\n",
    "    temp_df = temp_df.astype({\n",
    "        'step': int,\n",
    "        'energy': float,\n",
    "        'contact': int,\n",
    "        'rmsd': float,\n",
    "        'natives': int,\n",
    "        'potnl': float,\n",
    "        'sctor': float,\n",
    "        'hbond': float,\n",
    "        'aro': float,\n",
    "        'torsion': float,\n",
    "        'accept': float,\n",
    "        'reject': float,\n",
    "        'other': float,\n",
    "        'temp': float\n",
    "    })\n",
    "    \n",
    "    df = pd.concat([df, temp_df])\n",
    "\n",
    "print(df.shape)\n",
    "df.head()"
   ]
  },
  {
   "cell_type": "code",
   "execution_count": 21,
   "metadata": {},
   "outputs": [],
   "source": [
    "df.to_csv(CSV_SAVES / f'{path}.csv', index=False)"
   ]
  },
  {
   "cell_type": "code",
   "execution_count": 4,
   "metadata": {},
   "outputs": [
    {
     "data": {
      "text/plain": [
       "'CCCCCCCCCCCCCCCCCCCCCCCCCCCCCCCCCCCCCCCCCCCCCCCCCCCCCCCCCCCCCCCCCCCCCCCCCCCCCCCCCCCCCCCCCCCCCCCCCCCCCCCCCCCCCCCCCCCCCCCCCCCCCCCCCCCCCCCCCCCCCCCCCCCCCCCC'"
      ]
     },
     "execution_count": 4,
     "metadata": {},
     "output_type": "execute_result"
    }
   ],
   "source": [
    "152 * 'C'"
   ]
  },
  {
   "cell_type": "code",
   "execution_count": 3,
   "metadata": {},
   "outputs": [
    {
     "data": {
      "text/plain": [
       "152"
      ]
     },
     "execution_count": 3,
     "metadata": {},
     "output_type": "execute_result"
    }
   ],
   "source": [
    "len('KQVEIFTDGSALGNPGPGGYGAILRYRGREKTFSAGYTRTTNNRMELMAAIVALEALKEHAEVILSTDSQYVRQGITQWIHNWKKRGWKTADKKPVKNVDLWQRLDAALGQHQIKWEWVKGHAGHPENERADELARAAAMNPTLEDTGYQVE')"
   ]
  },
  {
   "cell_type": "code",
   "execution_count": 2,
   "metadata": {},
   "outputs": [
    {
     "data": {
      "text/plain": [
       "117"
      ]
     },
     "execution_count": 2,
     "metadata": {},
     "output_type": "execute_result"
    }
   ],
   "source": [
    "len('KQVEIFTDGSALGNPGPGGYGAILRYRGREKTFSAGYTRTTNNRMELMAAIVALEALKEHAEVILSTDSQYVRQGITQWIHNWKKRGWKTADKKPVKNVDLWQRLDAALGQHQIKWE')"
   ]
  },
  {
   "cell_type": "code",
   "execution_count": null,
   "metadata": {},
   "outputs": [],
   "source": []
  }
 ],
 "metadata": {
  "kernelspec": {
   "display_name": "Python 3 (ipykernel)",
   "language": "python",
   "name": "python3"
  },
  "language_info": {
   "codemirror_mode": {
    "name": "ipython",
    "version": 3
   },
   "file_extension": ".py",
   "mimetype": "text/x-python",
   "name": "python",
   "nbconvert_exporter": "python",
   "pygments_lexer": "ipython3",
   "version": "3.11.6"
  }
 },
 "nbformat": 4,
 "nbformat_minor": 4
}
